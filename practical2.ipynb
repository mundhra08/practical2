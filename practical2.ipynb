{
  "nbformat": 4,
  "nbformat_minor": 0,
  "metadata": {
    "colab": {
      "name": "practical2.ipynb",
      "provenance": [],
      "collapsed_sections": [],
      "authorship_tag": "ABX9TyPP5ShF5nGQpfLhNwk6GX4C",
      "include_colab_link": true
    },
    "kernelspec": {
      "name": "python3",
      "display_name": "Python 3"
    },
    "language_info": {
      "name": "python"
    }
  },
  "cells": [
    {
      "cell_type": "markdown",
      "metadata": {
        "id": "view-in-github",
        "colab_type": "text"
      },
      "source": [
        "<a href=\"https://colab.research.google.com/github/mundhra08/practical2/blob/main/practical2.ipynb\" target=\"_parent\"><img src=\"https://colab.research.google.com/assets/colab-badge.svg\" alt=\"Open In Colab\"/></a>"
      ]
    },
    {
      "cell_type": "code",
      "metadata": {
        "id": "lVpslh1fkQGz",
        "colab": {
          "base_uri": "https://localhost:8080/"
        },
        "outputId": "88631374-f87e-48fc-80b9-5288e23065b6"
      },
      "source": [
        "SE = [\"Amar\",\"Raju\",\"Pallavi\",\"Priya\",\"Aman\",\"Vivek\",\"Dinesh\", \"Rajesh\"]\n",
        "\n",
        "cricket = [\"Aman\",\"Amar\",\"Priya\",\"Dinesh\"]\n",
        "\n",
        "badminton = [\"Priya\",\"Vivek\",\"Aman\",]\n",
        "\n",
        "football = [\"Raju\",\"Pallavi\",\"Aman\",\"Priya\"]\n",
        "\n",
        "\n",
        "\n",
        "# list of students who play both cricket and badminton\n",
        "\n",
        "def First():\n",
        "\n",
        "  A = []\n",
        "\n",
        "  for i in cricket:\n",
        "\n",
        "    for j in badminton:\n",
        "\n",
        "        if i == j:\n",
        "\n",
        "            A.append(i)    \n",
        "\n",
        "  print(\"List of students who play both cricket and badminton are:\",A)\n",
        "\n",
        "\n",
        "\n",
        "# list of students who play either cricket or badminton but not both\n",
        "\n",
        "def Second():\n",
        "\n",
        "  B = []\n",
        "\n",
        "  for i in cricket:\n",
        "\n",
        "    if i not in badminton:\n",
        "\n",
        "      B.append(i)\n",
        "\n",
        "  for j in badminton:\n",
        "\n",
        "    if j not in cricket:\n",
        "\n",
        "      B.append(j)     \n",
        "\n",
        "\n",
        "\n",
        "  print(\"\\nList of students who play either cricket or badminton but not both are:\",B)\n",
        "\n",
        "\n",
        "\n",
        "#  Number of students who play neither cricket nor badminton\n",
        "\n",
        "def Third():\n",
        "\n",
        "  C = []\n",
        "\n",
        "  for i in SE:\n",
        "\n",
        "    if i not in cricket and badminton:\n",
        "\n",
        "      C.append(i)\n",
        "\n",
        "\n",
        "\n",
        "  print(\"\\nList of students who play neither cricket nor badminton are \",C)\n",
        "\n",
        "  print(\"The number of students who play neither cricket nor badminton are \",len(C))\n",
        "\n",
        "\n",
        "\n",
        "# Number of students who play cricket and football but not badminton\n",
        "\n",
        "def Fourth():\n",
        "\n",
        "  D = []\n",
        "\n",
        "  for i in SE:\n",
        "\n",
        "    if i not in badminton:\n",
        "\n",
        "        D.append(i)\n",
        "\n",
        "\n",
        "\n",
        "  print(\"\\nList of students who play cricket and football but not badminton are:\",D)\n",
        "\n",
        "  print(\"Number of students who play cricket and football both but not badminton are\",len(D))\n",
        "\n",
        "\n",
        "\n",
        "First()\n",
        "\n",
        "Second()\n",
        "\n",
        "Third()\n",
        "\n",
        "Fourth()\n",
        "\n"
      ],
      "execution_count": null,
      "outputs": [
        {
          "output_type": "stream",
          "name": "stdout",
          "text": [
            "List of students who play both cricket and badminton are: ['Aman', 'Priya']\n",
            "\n",
            "List of students who play either cricket or badminton but not both are: ['Amar', 'Dinesh', 'Vivek']\n",
            "\n",
            "List of students who play neither cricket nor badminton are  ['Raju', 'Pallavi', 'Vivek', 'Rajesh']\n",
            "The number of students who play neither cricket nor badminton are  4\n",
            "\n",
            "List of students who play cricket and football but not badminton are: ['Amar', 'Raju', 'Pallavi', 'Dinesh', 'Rajesh']\n",
            "Number of students who play cricket and football both but not badminton are 5\n"
          ]
        }
      ]
    }
  ]
}